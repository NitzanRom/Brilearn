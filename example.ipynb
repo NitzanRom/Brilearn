{
 "cells": [
  {
   "cell_type": "code",
   "execution_count": null,
   "metadata": {},
   "outputs": [],
   "source": [
    "import brilearn\n",
    "import utilities\n",
    "import metrics\n",
    "import pandas as pd\n",
    "import numpy as np"
   ]
  },
  {
   "cell_type": "markdown",
   "metadata": {},
   "source": [
    "Loading a pre-tuned model and making a prediction on some data"
   ]
  },
  {
   "cell_type": "code",
   "execution_count": null,
   "metadata": {},
   "outputs": [],
   "source": [
    "model = brilearn.Model()\n",
    "model.load_model()\n",
    "X = pd.read_excel(\"prediction_data.xlsx\", index_col=\"Index\")\n",
    "X = utilities.meyer_coeffs(X)\n",
    "Y = model.predict(X)\n",
    "Y.head()"
   ]
  },
  {
   "cell_type": "markdown",
   "metadata": {},
   "source": [
    "Fitting a model on a given database, and evaluating the prediction of the model"
   ]
  },
  {
   "cell_type": "code",
   "execution_count": null,
   "metadata": {},
   "outputs": [],
   "source": [
    "df_train = pd.read_excel(\n",
    "    \"fitting_data.xlsx\", index_col=\"Index\", sheet_name=\"Training\"\n",
    ")\n",
    "df_val = pd.read_excel(\n",
    "    \"fitting_data.xlsx\", index_col=\"Index\", sheet_name=\"Validation\"\n",
    ")\n",
    "df_test = pd.read_excel(\"fitting_data.xlsx\", index_col=\"Index\", sheet_name=\"Testing\")\n",
    "\n",
    "X_train = df_train[[\"k\", \"m\", \"Hardness\"]]\n",
    "Y_train = df_train[[\"Y\", \"K\", \"n\"]]\n",
    "X_val = df_val[[\"k\", \"m\", \"Hardness\"]]\n",
    "Y_val = df_val[[\"Y\", \"K\", \"n\"]]\n",
    "X_test = df_test[[\"k\", \"m\", \"Hardness\"]]\n",
    "Y_test = df_test[[\"Y\", \"K\", \"n\"]]"
   ]
  },
  {
   "cell_type": "code",
   "execution_count": null,
   "metadata": {},
   "outputs": [],
   "source": [
    "model = brilearn.Model()\n",
    "strains = np.linspace(0.02, 0.15, 30)\n",
    "model.fit(X_train, Y_train, strains, X_val, Y_val)\n",
    "Y_pred = model.predict(X_test)\n",
    "Y_test = utilities.construct_graphs(Y_test, Y_pred.columns)\n",
    "errors = metrics.get_errors(Y_pred, Y_test)\n",
    "errors.head()"
   ]
  }
 ],
 "metadata": {
  "kernelspec": {
   "display_name": "MachineLearning",
   "language": "python",
   "name": "python3"
  },
  "language_info": {
   "codemirror_mode": {
    "name": "ipython",
    "version": 3
   },
   "file_extension": ".py",
   "mimetype": "text/x-python",
   "name": "python",
   "nbconvert_exporter": "python",
   "pygments_lexer": "ipython3",
   "version": "3.11.8"
  }
 },
 "nbformat": 4,
 "nbformat_minor": 2
}
