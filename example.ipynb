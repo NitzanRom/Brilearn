{
 "cells": [
  {
   "cell_type": "code",
   "execution_count": null,
   "metadata": {},
   "outputs": [],
   "source": [
    "import brilearn\n",
    "import utilities\n",
    "import metrics\n",
    "import pandas as pd\n",
    "import numpy as np"
   ]
  },
  {
   "cell_type": "markdown",
   "metadata": {},
   "source": [
    "# Making a prediction"
   ]
  },
  {
   "cell_type": "markdown",
   "metadata": {},
   "source": [
    "Data format for prediction should look like this:"
   ]
  },
  {
   "cell_type": "code",
   "execution_count": null,
   "metadata": {},
   "outputs": [],
   "source": [
    "pd.read_excel('data_format.xlsx', index_col='Index', sheet_name='For prediction')"
   ]
  },
  {
   "cell_type": "markdown",
   "metadata": {},
   "source": [
    "For example:"
   ]
  },
  {
   "cell_type": "code",
   "execution_count": null,
   "metadata": {},
   "outputs": [],
   "source": [
    "X = pd.read_excel('prediction_data.xlsx', index_col='Index')\n",
    "X.head()"
   ]
  },
  {
   "cell_type": "markdown",
   "metadata": {},
   "source": [
    "Calling the pre-tuned model and predicting flow stress curve:"
   ]
  },
  {
   "cell_type": "code",
   "execution_count": null,
   "metadata": {},
   "outputs": [],
   "source": [
    "# Load model\n",
    "model = brilearn.Model()\n",
    "model.load_model()\n",
    "\n",
    "# Find Meyer coefficients (required for prediction)\n",
    "if ('k' not in X.columns) and ('m' not in X.columns):\n",
    "    X = utilities.meyer_coeffs(X)\n",
    "\n",
    "# Make a prediction\n",
    "Y = model.predict(X)"
   ]
  },
  {
   "cell_type": "markdown",
   "metadata": {},
   "source": [
    "Columns of Y represent the strain vector (the x axis of the flow curve).\n",
    "The dataframe values are the flow stress values computed for the given strain vector"
   ]
  },
  {
   "cell_type": "code",
   "execution_count": null,
   "metadata": {},
   "outputs": [],
   "source": [
    "Y"
   ]
  },
  {
   "cell_type": "markdown",
   "metadata": {},
   "source": [
    "# Fitting a model"
   ]
  },
  {
   "cell_type": "markdown",
   "metadata": {},
   "source": [
    "Data format for fitting should look like this:"
   ]
  },
  {
   "cell_type": "code",
   "execution_count": null,
   "metadata": {},
   "outputs": [],
   "source": [
    "pd.read_excel('data_format.xlsx', index_col='Index', sheet_name='For fitting')"
   ]
  },
  {
   "cell_type": "markdown",
   "metadata": {},
   "source": [
    "Fitting a model on a given database, and evaluating the prediction of the model"
   ]
  },
  {
   "cell_type": "code",
   "execution_count": null,
   "metadata": {},
   "outputs": [],
   "source": [
    "# Call train/validation/test databases\n",
    "df_train = pd.read_excel(\n",
    "    \"fitting_data.xlsx\", index_col=\"Index\", sheet_name=\"Training\"\n",
    ")\n",
    "df_val = pd.read_excel(\n",
    "    \"fitting_data.xlsx\", index_col=\"Index\", sheet_name=\"Validation\"\n",
    ")\n",
    "df_test = pd.read_excel(\"fitting_data.xlsx\", index_col=\"Index\", sheet_name=\"Testing\")\n",
    "\n",
    "# X matrix consists of Meyer coefficients and material hardness\n",
    "meyer_coeffs = [\"k\", \"m\", \"Hardness\"]\n",
    "X_train = df_train[meyer_coeffs]\n",
    "X_val = df_val[meyer_coeffs]\n",
    "X_test = df_test[meyer_coeffs]\n",
    "\n",
    "# Y matrix consists of Ludwig coefficients\n",
    "ludwig_coeffs = [\"Y\", \"K\", \"n\"]\n",
    "Y_train = df_train[ludwig_coeffs]\n",
    "Y_val = df_val[ludwig_coeffs]\n",
    "Y_test = df_test[ludwig_coeffs]"
   ]
  },
  {
   "cell_type": "code",
   "execution_count": null,
   "metadata": {},
   "outputs": [],
   "source": [
    "# Call model\n",
    "model = brilearn.Model()\n",
    "\n",
    "# Define desired strains vector\n",
    "strains = np.linspace(0.02, 0.15, 30)\n",
    "\n",
    "# Fit model using data\n",
    "model.fit(X_train, Y_train, strains, X_val, Y_val)\n",
    "\n",
    "# Make a prediction\n",
    "Y_pred = model.predict(X_test)\n",
    "\n",
    "# Construct a flow stress curve from the Ludwig coefficients (needed to compare the prediction to the test case)\n",
    "Y_test = utilities.construct_graphs(Y_test, Y_pred.columns)\n",
    "\n",
    "# Get prediction errors\n",
    "errors = metrics.get_errors(Y_pred, Y_test)\n",
    "errors.head()"
   ]
  }
 ],
 "metadata": {
  "kernelspec": {
   "display_name": "MachineLearning",
   "language": "python",
   "name": "python3"
  },
  "language_info": {
   "codemirror_mode": {
    "name": "ipython",
    "version": 3
   },
   "file_extension": ".py",
   "mimetype": "text/x-python",
   "name": "python",
   "nbconvert_exporter": "python",
   "pygments_lexer": "ipython3",
   "version": "3.11.8"
  }
 },
 "nbformat": 4,
 "nbformat_minor": 2
}
